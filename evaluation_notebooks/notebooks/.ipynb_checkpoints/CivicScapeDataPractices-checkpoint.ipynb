{
 "cells": [
  {
   "cell_type": "markdown",
   "metadata": {},
   "source": [
    "# CrimeScape Data Practices\n",
    "\n",
    "## Introduction\n",
    "\n",
    "This Python notebook introduces you to some of the data practices that\n",
    "CivicScape uses to keep CrimeScape running accurately and fairly. You\n",
    "can use prediction data from any city and any time period and this\n",
    "notebook will calculate the appropriate statistics automatically.\n",
    "\n",
    "The text will guide you through all the various calculations\n",
    "and statistics below, including helpful descriptions of why certain\n",
    "statistics are calculated and what they mean.\n",
    "\n",
    "If you want to dig into how everything is being calculated, there is\n",
    "a supporting python document in the same folder as this notebook called \n",
    "support.py that contains all the functions with the prefix '`support.`' below.\n",
    "\n",
    "**To begin**, please edit the strings in the module below so that they\n",
    "point to the correct data files for use. Then, run all the modules."
   ]
  },
  {
   "cell_type": "code",
   "execution_count": 3,
   "metadata": {
    "collapsed": true
   },
   "outputs": [],
   "source": [
    "# Use the following string to tell this notebook where the predictions are located\n",
    "pred_path = \"../data/Pred_chicago_il-160527-paperdata-newparamsNN-35hiddennodes-100models.csv\"\n",
    "\n",
    "# Use the following string to tell this notebook where the historical data are located\n",
    "hist_path = \"../data/historical_grouped_3_year.csv\""
   ]
  },
  {
   "cell_type": "markdown",
   "metadata": {},
   "source": [
    "Great! Now, run the notebook using Cell -> Run All above. This may take a minute or two for processing."
   ]
  },
  {
   "cell_type": "code",
   "execution_count": 6,
   "metadata": {
    "collapsed": false,
    "scrolled": false
   },
   "outputs": [],
   "source": [
    "import pandas as pd\n",
    "import os\n",
    "import numpy as np\n",
    "import sklearn as sk\n",
    "from sklearn import metrics\n",
    "import matplotlib.pyplot as plt\n",
    "import itertools\n",
    "import support\n",
    "from IPython.display import Image"
   ]
  },
  {
   "cell_type": "markdown",
   "metadata": {},
   "source": [
    "The notebook will pull in the data you specified above in the module below. It will also do a quick\n",
    "check to make sure that the columns in the data you're using match what the code expects to see."
   ]
  },
  {
   "cell_type": "code",
   "execution_count": 2,
   "metadata": {
    "collapsed": false,
    "scrolled": true
   },
   "outputs": [
    {
     "name": "stdout",
     "output_type": "stream",
     "text": [
      "\n",
      "Data files were loaded! You're ready to start!\n",
      "\n"
     ]
    }
   ],
   "source": [
    "predictions = pd.read_csv(pred_path)\n",
    "historical = pd.read_csv(hist_path)\n",
    "\n",
    "# This code checks to make sure the files have the correct columns\n",
    "support.data_check(predictions, historical)"
   ]
  },
  {
   "cell_type": "markdown",
   "metadata": {},
   "source": [
    "The predictions that are available from CrimeScape are future-looking, \n",
    "72 hours from the current time, by the hour. To train the models\n",
    "that go into those three-day predictions, we look at past crimes to \n",
    "understand the circumstances around them, allowing us to predict \n",
    "where and when they might occur in the future.\n",
    "\n",
    "Before we present those predictions, however, we go through a \n",
    "set of tests to understand whether the model will give us good\n",
    "results. What consitutes 'good' is an open question: we go through\n",
    "to few possible ways to define that here.\n",
    "\n",
    "First, we test the model's predictive power for time periods where\n",
    "we know the correct answer. \n",
    "\n",
    "To do this, we first split historical data into two sets: a training set \n",
    "and test set. While we know when and where crimes have actually occurred \n",
    "in both sets, the timeframe of the test set is after the training set. \n",
    "This allows us to use the training set to build a model, then to use \n",
    "that model to predict whether crimes will occur during the test set timeframe.\n",
    "This will give us a view as to how the model performs.\n",
    "\n",
    "The predictions file should already contain records of how many crimes\n",
    "actually occurred in the hour for each hourly prediction in each census\n",
    "tract. We'll take a look at that first.\n",
    "\n",
    "This next module tells you what the testing period is for the data you've \n",
    "imported. It will also do a few quick calculations to get the data ready for \n",
    "use. "
   ]
  },
  {
   "cell_type": "code",
   "execution_count": 3,
   "metadata": {
    "collapsed": false
   },
   "outputs": [
    {
     "name": "stdout",
     "output_type": "stream",
     "text": [
      "\n",
      "Data prep done!\n",
      "This file contains predictions for the test date range 2014-10-24 00:00:00 through 2015-05-28 00:00:00.\n"
     ]
    }
   ],
   "source": [
    "predictions, historical = support.data_prep(predictions, historical)"
   ]
  },
  {
   "cell_type": "markdown",
   "metadata": {
    "collapsed": false
   },
   "source": [
    "## Understanding Model Performance"
   ]
  },
  {
   "cell_type": "markdown",
   "metadata": {},
   "source": [
    "In everyday language, we often talk about models being *accurate*. But, in most machine learning cases, accuracy alone isn't helpful. For CrimeScape, we define accuracy as:\n",
    "\n",
    "- **Accuracy**: percent of the time that the model correctly predicts whether a crime occurs.\n",
    "\n",
    "In the case of our dataset, there are very few hours for each tract that have crimes: only about 6 out of every 10,000, or .058% of the dataset. So, even if our model predicted that *every hour for every tract in the city* was a non-crime hour no matter what, 100% of the time, we'd have an accuracy of 99.95% -- which is super high! But for a tool to deploy officers into the field, the model would be completely useless.\n",
    "\n",
    "Instead, we look at a Confusion Matrix to get an idea of different ways in which our model might perform well and not well. A confusion matrix has four metrics that tease apart Accuracy. They are:\n",
    "\n",
    "- **True Postitive Rate**: when a crime does happen, the percent of the time the model correctly predicts it.\n",
    "- **True Negative Rate**: when a crime doesn't happen, percent of the time the model correctly predicts none happen.\n",
    "- **False Positive Rate**: when a crime does happen, percent of the time the model misses it.\n",
    "- **False Negative Rate**: when a crime doesn't happen, precent of the time the model predicts one would.\n",
    "\n",
    "We put them into a diagram like the one below for ease of reading:"
   ]
  },
  {
   "cell_type": "markdown",
   "metadata": {},
   "source": [
    "<img src=\"confusion_matrix.png\" height=\"300\" width=\"300\" align=\"left\">  "
   ]
  },
  {
   "cell_type": "markdown",
   "metadata": {},
   "source": [
    "For every application of a model, these metrics have different costs associated. For example, if I'm predicting when a house is at high risk for lead poisoning, it's not that costly to have a False Positive (we have an inspector go and check out the house for no reason); but it's even costlier if we have a False Negative (a child may wind up with lead poisoning). So, in that case, we would want to have a high *True Positive Rate* (which is the opposite of False Negatives) even if it means sacrificing a bit of our *True Negative Rate* (which is the opposite of False Positives), because the latter is not as costly.\n",
    "\n",
    "In the case of CrimeScape, we consider False Negatives costlier than False Positives (the difference between stopping a crime or having a couple of extra officers unnecessarily). Therefore, what's most important to us is improving our True Positive rate and reducing our False Negative rate.\n",
    "\n",
    "Ultimately, though, no matter what, you want to have a High True Positive and True Negative Rates with low False Positive and False Negative Rates.\n",
    "\n",
    "Before we can calculate these metrics for the CrimeScape predictions, however, there's a really important question that needs to be answered. You see, when we run a model, our outputs generally look something like this: "
   ]
  },
  {
   "cell_type": "code",
   "execution_count": 23,
   "metadata": {
    "collapsed": false
   },
   "outputs": [
    {
     "data": {
      "text/html": [
       "<div>\n",
       "<table border=\"1\" class=\"dataframe\">\n",
       "  <thead>\n",
       "    <tr style=\"text-align: right;\">\n",
       "      <th></th>\n",
       "      <th>Census Tract</th>\n",
       "      <th>Date-Time</th>\n",
       "      <th>Probability of Crime</th>\n",
       "    </tr>\n",
       "  </thead>\n",
       "  <tbody>\n",
       "    <tr>\n",
       "      <th>0</th>\n",
       "      <td>671500</td>\n",
       "      <td>2014-10-24</td>\n",
       "      <td>0.742411</td>\n",
       "    </tr>\n",
       "    <tr>\n",
       "      <th>1</th>\n",
       "      <td>671600</td>\n",
       "      <td>2014-10-24</td>\n",
       "      <td>0.685709</td>\n",
       "    </tr>\n",
       "  </tbody>\n",
       "</table>\n",
       "</div>"
      ],
      "text/plain": [
       "   Census Tract  Date-Time  Probability of Crime\n",
       "0        671500 2014-10-24              0.742411\n",
       "1        671600 2014-10-24              0.685709"
      ]
     },
     "execution_count": 23,
     "metadata": {},
     "output_type": "execute_result"
    }
   ],
   "source": [
    "out = pd.DataFrame(predictions.iloc[:2][['census_tra','dt', 'prediction']])\n",
    "out.columns = ['Census Tract', 'Date', 'Probability of Crime']\n",
    "out"
   ]
  },
  {
   "cell_type": "markdown",
   "metadata": {},
   "source": [
    "Note that the model doesn't say \"a crime will occur here at this time.\" Instead, we get probabilities for a given time and place. This makes sense:  we're doing statistics, which is all about probability! But we really need our data to make some decisions so that it looks like this:"
   ]
  },
  {
   "cell_type": "code",
   "execution_count": 22,
   "metadata": {
    "collapsed": false
   },
   "outputs": [
    {
     "data": {
      "text/html": [
       "<div>\n",
       "<table border=\"1\" class=\"dataframe\">\n",
       "  <thead>\n",
       "    <tr style=\"text-align: right;\">\n",
       "      <th></th>\n",
       "      <th>Census Tract</th>\n",
       "      <th>Date-Time</th>\n",
       "      <th>Prediction</th>\n",
       "    </tr>\n",
       "  </thead>\n",
       "  <tbody>\n",
       "    <tr>\n",
       "      <th>0</th>\n",
       "      <td>671500</td>\n",
       "      <td>2014-10-24</td>\n",
       "      <td>Crime</td>\n",
       "    </tr>\n",
       "    <tr>\n",
       "      <th>1</th>\n",
       "      <td>671600</td>\n",
       "      <td>2014-10-24</td>\n",
       "      <td>No Crime</td>\n",
       "    </tr>\n",
       "  </tbody>\n",
       "</table>\n",
       "</div>"
      ],
      "text/plain": [
       "   Census Tract  Date-Time Prediction\n",
       "0        671500 2014-10-24      Crime\n",
       "1        671600 2014-10-24   No Crime"
      ]
     },
     "execution_count": 22,
     "metadata": {},
     "output_type": "execute_result"
    }
   ],
   "source": [
    "out = pd.DataFrame(predictions.iloc[:2][['census_tra','dt']])\n",
    "out.columns = ['Census Tract', 'Date-Time']\n",
    "out['Prediction'] = ['Crime', 'No Crime']\n",
    "out"
   ]
  },
  {
   "cell_type": "markdown",
   "metadata": {},
   "source": [
    "To get our data into this Crime/No Crime or Yes/No form, **we** have to make a decision about a *threshold* at which we want to say our probability amounts to a prediction of 'Yes, a crime will happen', the model won't make that decision for us. Should a 75% probability be considered a 'Yes'? A 90% probability? \n",
    "\n",
    "Luckily, there is a science of going about doing this, and it begins with a **Receiver Operating Characteristic, or ROC Curve**."
   ]
  },
  {
   "cell_type": "markdown",
   "metadata": {},
   "source": [
    "### Finding a Reasonable Threshold for Prediction"
   ]
  },
  {
   "cell_type": "markdown",
   "metadata": {},
   "source": [
    "Description of ROC"
   ]
  },
  {
   "cell_type": "code",
   "execution_count": 4,
   "metadata": {
    "collapsed": false
   },
   "outputs": [
    {
     "data": {
      "image/png": "[encoded data removed]",
      "text/plain": [
       "<matplotlib.figure.Figure at 0x103367550>"
      ]
     },
     "metadata": {},
     "output_type": "display_data"
    }
   ],
   "source": [
    "fpr, tpr, thresholds = metrics.roc_curve(predictions.crime_count, predictions.prediction, pos_label=1)\n",
    "roc_auc = metrics.roc_auc_score(predictions.crime_count,predictions.prediction)\n",
    "support.plot_roc(fpr, tpr, thresholds, roc_auc)"
   ]
  },
  {
   "cell_type": "markdown",
   "metadata": {},
   "source": [
    "Choosing a threshold discussion"
   ]
  },
  {
   "cell_type": "code",
   "execution_count": 5,
   "metadata": {
    "collapsed": false
   },
   "outputs": [
    {
     "data": {
      "image/png": "[encoded data removed]",
      "text/plain": [
       "<matplotlib.figure.Figure at 0x1094f0c18>"
      ]
     },
     "metadata": {},
     "output_type": "display_data"
    }
   ],
   "source": [
    "support.plot_fpr_tpr(fpr, tpr, thresholds)"
   ]
  },
  {
   "cell_type": "code",
   "execution_count": 6,
   "metadata": {
    "collapsed": false
   },
   "outputs": [
    {
     "name": "stdout",
     "output_type": "stream",
     "text": [
      "\n",
      "The optimal threshold for your data is: 0.46.\n",
      "\n"
     ]
    }
   ],
   "source": [
    "support.optimal_threshold(thresholds, fpr, tpr)"
   ]
  },
  {
   "cell_type": "markdown",
   "metadata": {},
   "source": [
    "Set the threshold to use in the module below. We have it set to 0.75 right now; but that might not be optimal for your data. You can put in the optimal threshold that the system gave you above, or you can enter in something else that seems reasonable to you."
   ]
  },
  {
   "cell_type": "code",
   "execution_count": 4,
   "metadata": {
    "collapsed": true
   },
   "outputs": [],
   "source": [
    "threshold = 0.75"
   ]
  },
  {
   "cell_type": "markdown",
   "metadata": {},
   "source": [
    "Below, we have calculated the confusion matrix for the predictions you loaded and the threshold you selected. As a reminder, here are the definitions we gave above:\n",
    "\n",
    "- **Accuracy**: percent of the time that the model correctly predicts whether a crime occurs.\n",
    "- **True Postitive Rate**: when a crime does happen, the percent of the time the model correctly predicts it.\n",
    "- **True Negative Rate**: when a crime doesn't happen, percent of the time the model correctly predicts none happen.\n",
    "- **False Positive Rate**: when a crime does happen, percent of the time the model misses it.\n",
    "- **False Negative Rate**: when a crime doesn't happen, precent of the time the model predicts one would."
   ]
  },
  {
   "cell_type": "markdown",
   "metadata": {},
   "source": [
    "<img src=\"confusion_matrix.png\" height=\"300\" width=\"300\" align=\"left\">  "
   ]
  },
  {
   "cell_type": "markdown",
   "metadata": {},
   "source": [
    "Here is the Confusion Matrix:"
   ]
  },
  {
   "cell_type": "code",
   "execution_count": 7,
   "metadata": {
    "collapsed": false,
    "scrolled": false
   },
   "outputs": [
    {
     "ename": "NameError",
     "evalue": "name 'predictions' is not defined",
     "output_type": "error",
     "traceback": [
      "\u001b[0;31m---------------------------------------------------------------------------\u001b[0m",
      "\u001b[0;31mNameError\u001b[0m                                 Traceback (most recent call last)",
      "\u001b[0;32m<ipython-input-7-dd8a2752abb4>\u001b[0m in \u001b[0;36m<module>\u001b[0;34m()\u001b[0m\n\u001b[1;32m      1\u001b[0m \u001b[0;31m# This creates a binary term for whether a prediction is above or below the threshold\u001b[0m\u001b[0;34m\u001b[0m\u001b[0;34m\u001b[0m\u001b[0m\n\u001b[0;32m----> 2\u001b[0;31m \u001b[0mpredictions\u001b[0m\u001b[0;34m[\u001b[0m\u001b[0;34m'pred_binary'\u001b[0m\u001b[0;34m]\u001b[0m \u001b[0;34m=\u001b[0m \u001b[0mnp\u001b[0m\u001b[0;34m.\u001b[0m\u001b[0mwhere\u001b[0m\u001b[0;34m(\u001b[0m\u001b[0mpredictions\u001b[0m\u001b[0;34m.\u001b[0m\u001b[0mprediction\u001b[0m \u001b[0;34m>=\u001b[0m \u001b[0mthreshold\u001b[0m\u001b[0;34m,\u001b[0m \u001b[0;36m1\u001b[0m\u001b[0;34m,\u001b[0m \u001b[0;36m0\u001b[0m\u001b[0;34m)\u001b[0m\u001b[0;34m\u001b[0m\u001b[0m\n\u001b[0m\u001b[1;32m      3\u001b[0m \u001b[0;31m# This calculates the confusion matrix\u001b[0m\u001b[0;34m\u001b[0m\u001b[0;34m\u001b[0m\u001b[0m\n\u001b[1;32m      4\u001b[0m \u001b[0msupport\u001b[0m\u001b[0;34m.\u001b[0m\u001b[0mconfusion_matrix\u001b[0m\u001b[0;34m(\u001b[0m\u001b[0mpredictions\u001b[0m\u001b[0;34m)\u001b[0m\u001b[0;34m\u001b[0m\u001b[0m\n",
      "\u001b[0;31mNameError\u001b[0m: name 'predictions' is not defined"
     ]
    }
   ],
   "source": [
    "# This creates a binary term for whether a prediction is above or below the threshold\n",
    "predictions['pred_binary'] = np.where(predictions.prediction >= threshold, 1, 0)\n",
    "# This calculates the confusion matrix\n",
    "support.confusion_matrix(predictions)"
   ]
  },
  {
   "cell_type": "markdown",
   "metadata": {},
   "source": [
    "And here are those same statistics, compared to the accuracy for this model, in a table:"
   ]
  },
  {
   "cell_type": "code",
   "execution_count": 8,
   "metadata": {
    "collapsed": false,
    "scrolled": true
   },
   "outputs": [
    {
     "data": {
      "text/html": [
       "<div>\n",
       "<table border=\"1\" class=\"dataframe\">\n",
       "  <thead>\n",
       "    <tr style=\"text-align: right;\">\n",
       "      <th></th>\n",
       "      <th>Accuracy</th>\n",
       "      <th>False Negative Rate</th>\n",
       "      <th>False Positive Rate</th>\n",
       "      <th>True Negative Rate</th>\n",
       "      <th>True Positive Rate</th>\n",
       "    </tr>\n",
       "  </thead>\n",
       "  <tbody>\n",
       "    <tr>\n",
       "      <th>Value</th>\n",
       "      <td>0.678626</td>\n",
       "      <td>0.245667</td>\n",
       "      <td>0.321418</td>\n",
       "      <td>0.678582</td>\n",
       "      <td>0.754333</td>\n",
       "    </tr>\n",
       "  </tbody>\n",
       "</table>\n",
       "</div>"
      ],
      "text/plain": [
       "       Accuracy  False Negative Rate  False Positive Rate   \\\n",
       "Value  0.678626             0.245667              0.321418   \n",
       "\n",
       "       True Negative Rate  True Positive Rate  \n",
       "Value            0.678582            0.754333  "
      ]
     },
     "execution_count": 8,
     "metadata": {},
     "output_type": "execute_result"
    }
   ],
   "source": [
    "support.metrics_table(predictions)"
   ]
  },
  {
   "cell_type": "markdown",
   "metadata": {},
   "source": [
    "By themselves, these statistics and metrics tell us a lot about the model. Even so, they're still floating there in a little bubble: these metrics may look good, but *how* good are they? Or, better for us, these metrics may look bad, but are they actually when compared to a meaningful baseline? "
   ]
  },
  {
   "cell_type": "markdown",
   "metadata": {},
   "source": [
    "## Finding a Baseline for Comparison: COMPSTAT"
   ]
  },
  {
   "cell_type": "markdown",
   "metadata": {
    "collapsed": true
   },
   "source": [
    "While there are a few other machine-learning driven systems that also do crime prediction, much like CrimeScape, most cities in the US still rely on a system that is broadly refered to as COMPSTAT: a data-driven policing deployment approach that encompasses a wide variety of different techniques and methodologies."
   ]
  },
  {
   "cell_type": "code",
   "execution_count": null,
   "metadata": {
    "collapsed": true
   },
   "outputs": [],
   "source": []
  }
 ],
 "metadata": {
  "kernelspec": {
   "display_name": "Python 3",
   "language": "python",
   "name": "python3"
  },
  "language_info": {
   "codemirror_mode": {
    "name": "ipython",
    "version": 3
   },
   "file_extension": ".py",
   "mimetype": "text/x-python",
   "name": "python",
   "nbconvert_exporter": "python",
   "pygments_lexer": "ipython3",
   "version": "3.5.2"
  }
 },
 "nbformat": 4,
 "nbformat_minor": 1
}
